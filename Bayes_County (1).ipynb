{
 "cells": [
  {
   "cell_type": "code",
   "execution_count": 1,
   "id": "aee27b35",
   "metadata": {},
   "outputs": [
    {
     "name": "stdout",
     "output_type": "stream",
     "text": [
      "             date     area area_type  population  cases  cumulative_cases  \\\n",
      "0      2020-02-01  Alameda    County   1685886.0    3.0               3.0   \n",
      "1      2020-02-02  Alameda    County   1685886.0    0.0               3.0   \n",
      "2      2020-02-03  Alameda    County   1685886.0    0.0               3.0   \n",
      "3      2020-02-04  Alameda    County   1685886.0    0.0               3.0   \n",
      "4      2020-02-05  Alameda    County   1685886.0    0.0               3.0   \n",
      "...           ...      ...       ...         ...    ...               ...   \n",
      "50198  2022-04-29     Yuba    County     79290.0    8.0           15933.0   \n",
      "50199  2022-04-30     Yuba    County     79290.0    3.0           15936.0   \n",
      "50200  2022-05-01     Yuba    County     79290.0    3.0           15939.0   \n",
      "50201  2022-05-02     Yuba    County     79290.0    0.0           15939.0   \n",
      "50202         NaN     Yuba    County     79290.0    3.0           15942.0   \n",
      "\n",
      "       deaths  cumulative_deaths  total_tests  cumulative_total_tests  \\\n",
      "0         0.0                0.0          4.0                       4   \n",
      "1         0.0                0.0          1.0                       5   \n",
      "2         0.0                0.0          0.0                       5   \n",
      "3         0.0                0.0          0.0                       5   \n",
      "4         0.0                0.0          1.0                       6   \n",
      "...       ...                ...          ...                     ...   \n",
      "50198     0.0              113.0        163.0                  165991   \n",
      "50199     0.0              113.0         57.0                  166048   \n",
      "50200     0.0              113.0         45.0                  166093   \n",
      "50201     0.0              113.0          NaN                  166093   \n",
      "50202     9.0              122.0         36.0                  166129   \n",
      "\n",
      "       positive_tests  cumulative_positive_tests  reported_cases  \\\n",
      "0                 0.0                          0             0.0   \n",
      "1                 0.0                          0             0.0   \n",
      "2                 0.0                          0             0.0   \n",
      "3                 0.0                          0             0.0   \n",
      "4                 0.0                          0             0.0   \n",
      "...               ...                        ...             ...   \n",
      "50198             9.0                      18834             0.0   \n",
      "50199             3.0                      18837             0.0   \n",
      "50200             3.0                      18840             0.0   \n",
      "50201             NaN                      18840            23.0   \n",
      "50202             2.0                      18842             0.0   \n",
      "\n",
      "       cumulative_reported_cases  reported_deaths  cumulative_reported_deaths  \\\n",
      "0                            0.0              0.0                         0.0   \n",
      "1                            0.0              0.0                         0.0   \n",
      "2                            0.0              0.0                         0.0   \n",
      "3                            0.0              0.0                         0.0   \n",
      "4                            0.0              0.0                         0.0   \n",
      "...                          ...              ...                         ...   \n",
      "50198                    15917.0              0.0                       121.0   \n",
      "50199                    15917.0              0.0                       121.0   \n",
      "50200                    15917.0              0.0                       121.0   \n",
      "50201                    15940.0              1.0                       122.0   \n",
      "50202                    15940.0              0.0                       122.0   \n",
      "\n",
      "       reported_tests  \n",
      "0                 NaN  \n",
      "1                 NaN  \n",
      "2                 NaN  \n",
      "3                 NaN  \n",
      "4                 NaN  \n",
      "...               ...  \n",
      "50198             NaN  \n",
      "50199             NaN  \n",
      "50200             NaN  \n",
      "50201           595.0  \n",
      "50202             NaN  \n",
      "\n",
      "[50203 rows x 17 columns]\n"
     ]
    }
   ],
   "source": [
    "import pandas as pd\n",
    "\n",
    "df = pd.read_csv (\"covid19cases_test.csv\") \n",
    "print (df)"
   ]
  },
  {
   "cell_type": "code",
   "execution_count": 2,
   "id": "7fe9e2fc",
   "metadata": {},
   "outputs": [
    {
     "name": "stdout",
     "output_type": "stream",
     "text": [
      "The Alameda data is 0      0.000004\n",
      "1      0.000004\n",
      "2      0.000004\n",
      "3      0.000004\n",
      "4      0.000004\n",
      "         ...   \n",
      "807    0.291734\n",
      "808    0.292066\n",
      "809    0.292373\n",
      "810    0.292678\n",
      "811    0.292983\n",
      "Length: 812, dtype: float64\n"
     ]
    }
   ],
   "source": [
    "Alameda_popluation = df.loc[0:811, 'population']\n",
    "Alameda_cumulative_cases = df.loc[0:811, 'cumulative_cases']\n",
    "Effect = 0.95\n",
    "False_Positive = 0.42\n",
    "a_list = []\n",
    "for x in range(812):\n",
    "  a_list.append(Alameda_popluation)\n",
    "b_list = []\n",
    "for x in range(812):\n",
    "  b_list.append(Alameda_cumulative_cases)\n",
    "for x in range(812):\n",
    "    res = [j / i for j, i in zip(b_list, a_list)]\n",
    "neg_Alameda = []\n",
    "for x in range(812):\n",
    "    neg_Alameda = 1 - res[x]\n",
    "    a = res[x] * Effect\n",
    "    b = neg_Alameda * False_Positive\n",
    "    Accuracy = a + b\n",
    "    Alameda_Data = Effect / Accuracy * res[x]\n",
    "    \n",
    "print(\"The Alameda data is\", Alameda_Data)"
   ]
  },
  {
   "cell_type": "code",
   "execution_count": 3,
   "id": "fdd061f2",
   "metadata": {},
   "outputs": [
    {
     "name": "stdout",
     "output_type": "stream",
     "text": [
      "The Alpine data is 812     0.293181\n",
      "813     0.293340\n",
      "814     0.293810\n",
      "815     0.294190\n",
      "816     0.294583\n",
      "          ...   \n",
      "1619    0.220245\n",
      "1620    0.220245\n",
      "1621    0.220245\n",
      "1622    0.220245\n",
      "1623    0.220245\n",
      "Length: 812, dtype: float64\n"
     ]
    }
   ],
   "source": [
    "Alpine_popluation = df.loc[812:1623, 'population']\n",
    "Alpine_cumulative_cases = df.loc[812:1623, 'cumulative_cases']\n",
    "Effect = 0.95\n",
    "False_Positive = 0.42\n",
    "a_list = []\n",
    "for x in range(812):\n",
    "  a_list.append(Alpine_popluation)\n",
    "b_list = []\n",
    "for x in range(812):\n",
    "  b_list.append(Alpine_cumulative_cases)\n",
    "for x in range(812):\n",
    "    res = [j / i for j, i in zip(b_list, a_list)]\n",
    "neg_Alpine = []\n",
    "for x in range(812):\n",
    "    neg_Alpine = 1 - res[x]\n",
    "    a = res[x] * Effect\n",
    "    b = neg_Alpine * False_Positive\n",
    "    Accuracy = a + b\n",
    "    Alpine_Data = Effect / Accuracy * res[x]\n",
    "    \n",
    "print(\"The Alpine data is\", Alpine_Data)"
   ]
  },
  {
   "cell_type": "code",
   "execution_count": 4,
   "id": "8a497a11",
   "metadata": {},
   "outputs": [
    {
     "name": "stdout",
     "output_type": "stream",
     "text": [
      "The Amador data is 1624    0.220245\n",
      "1625    0.220245\n",
      "1626    0.220245\n",
      "1627    0.220245\n",
      "1628    0.220245\n",
      "          ...   \n",
      "2431    0.391256\n",
      "2432    0.391363\n",
      "2433    0.391399\n",
      "2434    0.391399\n",
      "2435    0.391399\n",
      "Length: 812, dtype: float64\n"
     ]
    }
   ],
   "source": [
    "Amador_popluation = df.loc[1624:2435, 'population']\n",
    "Amador_cumulative_cases = df.loc[1624:2435, 'cumulative_cases']\n",
    "Effect = 0.95\n",
    "False_Positive = 0.42\n",
    "a_list = []\n",
    "for x in range(812):\n",
    "  a_list.append(Amador_popluation)\n",
    "b_list = []\n",
    "for x in range(812):\n",
    "  b_list.append(Amador_cumulative_cases)\n",
    "for x in range(812):\n",
    "    res = [j / i for j, i in zip(b_list, a_list)]\n",
    "neg_Amador = []\n",
    "for x in range(812):\n",
    "    neg_Amador = 1 - res[x]\n",
    "    a = res[x] * Effect\n",
    "    b = neg_Amador * False_Positive\n",
    "    Accuracy = a + b\n",
    "    Amador_Data = Effect / Accuracy * res[x]\n",
    "    \n",
    "print(\"The Amador data is\", Amador_Data)"
   ]
  },
  {
   "cell_type": "code",
   "execution_count": 5,
   "id": "f20eb605",
   "metadata": {},
   "outputs": [
    {
     "name": "stdout",
     "output_type": "stream",
     "text": [
      "The Butte data is 2436    0.391399\n",
      "2437    0.391399\n",
      "2438    0.391399\n",
      "2439    0.391399\n",
      "2440    0.391435\n",
      "          ...   \n",
      "3241    0.286655\n",
      "3242    0.286787\n",
      "3243    0.286882\n",
      "3244    0.286970\n",
      "3245    0.287072\n",
      "Length: 810, dtype: float64\n"
     ]
    }
   ],
   "source": [
    "Butte_popluation = df.loc[2436:3245, 'population']\n",
    "Butte_cumulative_cases = df.loc[2436:3245, 'cumulative_cases']\n",
    "Effect = 0.95\n",
    "False_Positive = 0.42\n",
    "a_list = []\n",
    "for x in range(812):\n",
    "  a_list.append(Butte_popluation)\n",
    "b_list = []\n",
    "for x in range(812):\n",
    "  b_list.append(Butte_cumulative_cases)\n",
    "for x in range(812):\n",
    "    res = [j / i for j, i in zip(b_list, a_list)]\n",
    "neg_Butte = []\n",
    "for x in range(812):\n",
    "    neg_Butte = 1 - res[x]\n",
    "    a = res[x] * Effect\n",
    "    b = neg_Butte * False_Positive\n",
    "    Accuracy = a + b\n",
    "    Butte_Data = Effect / Accuracy * res[x]\n",
    "    \n",
    "print(\"The Butte data is\", Butte_Data)"
   ]
  },
  {
   "cell_type": "code",
   "execution_count": 6,
   "id": "d7174ae7",
   "metadata": {},
   "outputs": [
    {
     "name": "stdout",
     "output_type": "stream",
     "text": [
      "The Calaveras data is 3246    0.287109\n",
      "3247    0.287160\n",
      "3248    0.287263\n",
      "3249    0.287343\n",
      "3250    0.287417\n",
      "          ...   \n",
      "4053    0.305120\n",
      "4054    0.305577\n",
      "4055    0.305613\n",
      "4056    0.305718\n",
      "4057    0.305788\n",
      "Length: 812, dtype: float64\n"
     ]
    }
   ],
   "source": [
    "Calaveras_popluation = df.loc[3246:4057, 'population']\n",
    "Calaveras_cumulative_cases = df.loc[3246:4057, 'cumulative_cases']\n",
    "Effect = 0.95\n",
    "False_Positive = 0.42\n",
    "a_list = []\n",
    "for x in range(812):\n",
    "  a_list.append(Calaveras_popluation)\n",
    "b_list = []\n",
    "for x in range(812):\n",
    "  b_list.append(Calaveras_cumulative_cases)\n",
    "for x in range(812):\n",
    "    res = [j / i for j, i in zip(b_list, a_list)]\n",
    "neg_Calaveras = []\n",
    "for x in range(812):\n",
    "    neg_Calaveras = 1 - res[x]\n",
    "    a = res[x] * Effect\n",
    "    b = neg_Calaveras * False_Positive\n",
    "    Accuracy = a + b\n",
    "    Calaveras_Data = Effect / Accuracy * res[x]\n",
    "    \n",
    "print(\"The Calaveras data is\", Calaveras_Data)"
   ]
  },
  {
   "cell_type": "code",
   "execution_count": 7,
   "id": "4b9c19ef",
   "metadata": {},
   "outputs": [
    {
     "name": "stdout",
     "output_type": "stream",
     "text": [
      "The Colusa data is 4873    0.375799\n",
      "4874    0.375963\n",
      "4875    0.376102\n",
      "4876    0.376227\n",
      "4877    0.376337\n",
      "          ...   \n",
      "5680    0.284510\n",
      "5681    0.284793\n",
      "5682    0.285076\n",
      "5683    0.285289\n",
      "5684    0.285855\n",
      "Length: 812, dtype: float64\n"
     ]
    }
   ],
   "source": [
    "Colusa_popluation = df.loc[4873:5684, 'population']\n",
    "Colusa_cumulative_cases = df.loc[4873:5684, 'cumulative_cases']\n",
    "Effect = 0.95\n",
    "False_Positive = 0.42\n",
    "a_list = []\n",
    "for x in range(812):\n",
    "  a_list.append(Colusa_popluation)\n",
    "b_list = []\n",
    "for x in range(812):\n",
    "  b_list.append(Colusa_cumulative_cases)\n",
    "for x in range(812):\n",
    "    res = [j / i for j, i in zip(b_list, a_list)]\n",
    "neg_Colusa = []\n",
    "for x in range(812):\n",
    "    neg_Colusa = 1 - res[x]\n",
    "    a = res[x] * Effect\n",
    "    b = neg_Colusa * False_Positive\n",
    "    Accuracy = a + b\n",
    "    Colusa_Data = Effect / Accuracy * res[x]\n",
    "    \n",
    "print(\"The Colusa data is\", Colusa_Data)"
   ]
  },
  {
   "cell_type": "code",
   "execution_count": 8,
   "id": "fd957ef9",
   "metadata": {},
   "outputs": [
    {
     "name": "stdout",
     "output_type": "stream",
     "text": [
      "The Contra_Costa data is 5685    0.286208\n",
      "5686    0.286420\n",
      "5687    0.286562\n",
      "5688    0.286632\n",
      "5689    0.286844\n",
      "          ...   \n",
      "6492    0.291556\n",
      "6493    0.292562\n",
      "6494    0.293383\n",
      "6495    0.294208\n",
      "6496    0.294654\n",
      "Length: 812, dtype: float64\n"
     ]
    }
   ],
   "source": [
    "Contra_Costa_popluation = df.loc[5685:6496, 'population']\n",
    "Contra_Costa_cumulative_cases = df.loc[5685:6496, 'cumulative_cases']\n",
    "Effect = 0.95\n",
    "False_Positive = 0.42\n",
    "a_list = []\n",
    "for x in range(812):\n",
    "  a_list.append(Contra_Costa_popluation)\n",
    "b_list = []\n",
    "for x in range(812):\n",
    "  b_list.append(Contra_Costa_cumulative_cases)\n",
    "for x in range(812):\n",
    "    res = [j / i for j, i in zip(b_list, a_list)]\n",
    "neg_Contra_Costa = []\n",
    "for x in range(812):\n",
    "    neg_Contra_Costa = 1 - res[x]\n",
    "    a = res[x] * Effect\n",
    "    b = neg_Contra_Costa * False_Positive\n",
    "    Accuracy = a + b\n",
    "    Contra_Costa_Data = Effect / Accuracy * res[x]\n",
    "    \n",
    "print(\"The Contra_Costa data is\", Contra_Costa_Data)"
   ]
  },
  {
   "cell_type": "code",
   "execution_count": 9,
   "id": "82c1d3f7",
   "metadata": {},
   "outputs": [
    {
     "name": "stdout",
     "output_type": "stream",
     "text": [
      "The Del_Norte data is 6497    0.295026\n",
      "6498    0.295879\n",
      "6499    0.296505\n",
      "6500    0.297086\n",
      "6501    0.297570\n",
      "          ...   \n",
      "7303    0.305173\n",
      "7304    0.307430\n",
      "7305    0.309736\n",
      "7306    0.311756\n",
      "7307    0.315443\n",
      "Length: 811, dtype: float64\n"
     ]
    }
   ],
   "source": [
    "Del_Norte_popluation = df.loc[6497:7307, 'population']\n",
    "Del_Norte_cumulative_cases = df.loc[6497:7307, 'cumulative_cases']\n",
    "Effect = 0.95\n",
    "False_Positive = 0.42\n",
    "a_list = []\n",
    "for x in range(812):\n",
    "  a_list.append(Del_Norte_popluation)\n",
    "b_list = []\n",
    "for x in range(812):\n",
    "  b_list.append(Del_Norte_cumulative_cases)\n",
    "for x in range(812):\n",
    "    res = [j / i for j, i in zip(b_list, a_list)]\n",
    "neg_Del_Norte = []\n",
    "for x in range(812):\n",
    "    neg_Del_Norte = 1 - res[x]\n",
    "    a = res[x] * Effect\n",
    "    b = neg_Del_Norte * False_Positive\n",
    "    Accuracy = a + b\n",
    "    Del_Norte_Data = Effect / Accuracy * res[x]\n",
    "    \n",
    "print(\"The Del_Norte data is\", Del_Norte_Data)"
   ]
  },
  {
   "cell_type": "code",
   "execution_count": 10,
   "id": "8dc14e39",
   "metadata": {},
   "outputs": [
    {
     "name": "stdout",
     "output_type": "stream",
     "text": [
      "The El_Dorado data is 7308    0.318779\n",
      "7309    0.322653\n",
      "7310    0.325792\n",
      "7311    0.328206\n",
      "7312    0.329519\n",
      "          ...   \n",
      "8115    0.216042\n",
      "8116    0.219306\n",
      "8117    0.224387\n",
      "8118    0.227492\n",
      "8119    0.230370\n",
      "Length: 812, dtype: float64\n"
     ]
    }
   ],
   "source": [
    "El_Dorado_popluation = df.loc[7308:8119, 'population']\n",
    "El_Dorado_cumulative_cases = df.loc[7308:8119, 'cumulative_cases']\n",
    "Effect = 0.95\n",
    "False_Positive = 0.42\n",
    "a_list = []\n",
    "for x in range(812):\n",
    "  a_list.append(El_Dorado_popluation)\n",
    "b_list = []\n",
    "for x in range(812):\n",
    "  b_list.append(El_Dorado_cumulative_cases)\n",
    "for x in range(812):\n",
    "    res = [j / i for j, i in zip(b_list, a_list)]\n",
    "neg_El_Dorado = []\n",
    "for x in range(812):\n",
    "    neg_El_Dorado = 1 - res[x]\n",
    "    a = res[x] * Effect\n",
    "    b = neg_El_Dorado * False_Positive\n",
    "    Accuracy = a + b\n",
    "    El_Dorado_Data = Effect / Accuracy * res[x]\n",
    "    \n",
    "print(\"The El_Dorado data is\", El_Dorado_Data)"
   ]
  },
  {
   "cell_type": "code",
   "execution_count": 11,
   "id": "26932cb4",
   "metadata": {},
   "outputs": [
    {
     "name": "stdout",
     "output_type": "stream",
     "text": [
      "The Fresno data is 8120    0.232565\n",
      "8121    0.233930\n",
      "8122    0.234806\n",
      "8123    0.237235\n",
      "8124    0.239471\n",
      "          ...   \n",
      "8927    0.283026\n",
      "8928    0.284780\n",
      "8929    0.285600\n",
      "8930    0.286070\n",
      "8931    0.287096\n",
      "Length: 812, dtype: float64\n"
     ]
    }
   ],
   "source": [
    "Fresno_popluation = df.loc[8120:8931, 'population']\n",
    "Fresno_cumulative_cases = df.loc[8120:8931, 'cumulative_cases']\n",
    "Effect = 0.95\n",
    "False_Positive = 0.42\n",
    "a_list = []\n",
    "for x in range(812):\n",
    "  a_list.append(Fresno_popluation)\n",
    "b_list = []\n",
    "for x in range(812):\n",
    "  b_list.append(Fresno_cumulative_cases)\n",
    "for x in range(812):\n",
    "    res = [j / i for j, i in zip(b_list, a_list)]\n",
    "neg_Fresno = []\n",
    "for x in range(812):\n",
    "    neg_Fresno = 1 - res[x]\n",
    "    a = res[x] * Effect\n",
    "    b = neg_Fresno * False_Positive\n",
    "    Accuracy = a + b\n",
    "    Fresno_Data = Effect / Accuracy * res[x]\n",
    "    \n",
    "print(\"The Fresno data is\", Fresno_Data)"
   ]
  },
  {
   "cell_type": "code",
   "execution_count": 12,
   "id": "fd5acbfd",
   "metadata": {},
   "outputs": [
    {
     "name": "stdout",
     "output_type": "stream",
     "text": [
      "The Glenn data is 8932    0.289749\n",
      "8933    0.292791\n",
      "8934    0.296091\n",
      "8935    0.299156\n",
      "8936    0.302368\n",
      "          ...   \n",
      "9739    0.241999\n",
      "9740    0.242172\n",
      "9741    0.242403\n",
      "9742    0.242748\n",
      "9743    0.243554\n",
      "Length: 812, dtype: float64\n"
     ]
    }
   ],
   "source": [
    "Glenn_popluation = df.loc[8932:9743, 'population']\n",
    "Glenn_cumulative_cases = df.loc[8932:9743, 'cumulative_cases']\n",
    "a_list = []\n",
    "for x in range(812):\n",
    "  a_list.append(Glenn_popluation)\n",
    "b_list = []\n",
    "for x in range(812):\n",
    "  b_list.append(Glenn_cumulative_cases)\n",
    "for x in range(812):\n",
    "    res = [j / i for j, i in zip(b_list, a_list)]\n",
    "neg_Fresno = []\n",
    "for x in range(812):\n",
    "    neg_Glenn = 1 - res[x]\n",
    "    a = res[x] * Effect\n",
    "    b = neg_Glenn * False_Positive\n",
    "    Accuracy = a + b\n",
    "    Glenn_Data = Effect / Accuracy * res[x]\n",
    "    \n",
    "print(\"The Glenn data is\", Glenn_Data)"
   ]
  },
  {
   "cell_type": "code",
   "execution_count": 13,
   "id": "cfd6f275",
   "metadata": {},
   "outputs": [
    {
     "name": "stdout",
     "output_type": "stream",
     "text": [
      "The Humboldt data is 9744     0.243842\n",
      "9745     0.244072\n",
      "9746     0.244130\n",
      "9747     0.244705\n",
      "9748     0.245164\n",
      "           ...   \n",
      "10551    0.151613\n",
      "10552    0.151953\n",
      "10553    0.152263\n",
      "10554    0.152574\n",
      "10555    0.152814\n",
      "Length: 812, dtype: float64\n"
     ]
    }
   ],
   "source": [
    "Humboldt_popluation = df.loc[9744:10555, 'population']\n",
    "Humboldt_cumulative_cases = df.loc[9744:10555, 'cumulative_cases']\n",
    "a_list = []\n",
    "for x in range(812):\n",
    "  a_list.append(Humboldt_popluation)\n",
    "b_list = []\n",
    "for x in range(812):\n",
    "  b_list.append(Humboldt_cumulative_cases)\n",
    "for x in range(812):\n",
    "    res = [j / i for j, i in zip(b_list, a_list)]\n",
    "neg_Humboldt = []\n",
    "for x in range(812):\n",
    "    neg_Humboldt = 1 - res[x]\n",
    "    a = res[x] * Effect\n",
    "    b = neg_Humboldt * False_Positive\n",
    "    Accuracy = a + b\n",
    "    Humboldt_Data = Effect / Accuracy * res[x]\n",
    "    \n",
    "print(\"The Humboldt data is\", Humboldt_Data)"
   ]
  },
  {
   "cell_type": "code",
   "execution_count": 14,
   "id": "89dbfea6",
   "metadata": {},
   "outputs": [
    {
     "name": "stdout",
     "output_type": "stream",
     "text": [
      "The Imperial data is 10556    0.153054\n",
      "10557    0.153392\n",
      "10558    0.153801\n",
      "10559    0.153971\n",
      "10560    0.154252\n",
      "           ...   \n",
      "11363    0.337272\n",
      "11364    0.337715\n",
      "11365    0.338360\n",
      "11366    0.339198\n",
      "11367    0.339695\n",
      "Length: 812, dtype: float64\n"
     ]
    }
   ],
   "source": [
    "Imperial_popluation = df.loc[10556:11367, 'population']\n",
    "Imperial_cumulative_cases = df.loc[10556:11367, 'cumulative_cases']\n",
    "a_list = []\n",
    "for x in range(812):\n",
    "  a_list.append(Imperial_popluation)\n",
    "b_list = []\n",
    "for x in range(812):\n",
    "  b_list.append(Imperial_cumulative_cases)\n",
    "for x in range(812):\n",
    "    res = [j / i for j, i in zip(b_list, a_list)]\n",
    "neg_Imperial = []\n",
    "for x in range(812):\n",
    "    neg_Imperial = 1 - res[x]\n",
    "    a = res[x] * Effect\n",
    "    b = neg_Imperial * False_Positive\n",
    "    Accuracy = a + b\n",
    "    Imperial_Data = Effect / Accuracy * res[x]\n",
    "    \n",
    "print(\"The Imperial data is\", Imperial_Data)"
   ]
  },
  {
   "cell_type": "code",
   "execution_count": 15,
   "id": "a484d05f",
   "metadata": {},
   "outputs": [
    {
     "name": "stdout",
     "output_type": "stream",
     "text": [
      "The Inyo data is 11368    0.340531\n",
      "11369    0.341158\n",
      "11370    0.341677\n",
      "11371    0.342017\n",
      "11372    0.342442\n",
      "           ...   \n",
      "12175    0.260806\n",
      "12176    0.261253\n",
      "12177    0.261879\n",
      "12178    0.262415\n",
      "12179    0.263130\n",
      "Length: 812, dtype: float64\n"
     ]
    }
   ],
   "source": [
    "Inyo_popluation = df.loc[11368:12179, 'population']\n",
    "Inyo_cumulative_cases = df.loc[11368:12179, 'cumulative_cases']\n",
    "a_list = []\n",
    "for x in range(812):\n",
    "  a_list.append(Inyo_popluation)\n",
    "b_list = []\n",
    "for x in range(812):\n",
    "  b_list.append(Inyo_cumulative_cases)\n",
    "for x in range(812):\n",
    "    res = [j / i for j, i in zip(b_list, a_list)]\n",
    "neg_Inyo = []\n",
    "for x in range(812):\n",
    "    neg_Inyo = 1 - res[x]\n",
    "    a = res[x] * Effect\n",
    "    b = neg_Inyo * False_Positive\n",
    "    Accuracy = a + b\n",
    "    Inyo_Data = Effect / Accuracy * res[x]\n",
    "    \n",
    "print(\"The Inyo data is\", Inyo_Data)"
   ]
  },
  {
   "cell_type": "code",
   "execution_count": 16,
   "id": "3c2dcdd8",
   "metadata": {},
   "outputs": [
    {
     "name": "stdout",
     "output_type": "stream",
     "text": [
      "The Kern data is 12180    0.263486\n",
      "12181    0.263576\n",
      "12182    0.264200\n",
      "12183    0.264734\n",
      "12184    0.265090\n",
      "           ...   \n",
      "12987    0.267107\n",
      "12988    0.267517\n",
      "12989    0.267741\n",
      "12990    0.267975\n",
      "12991    0.268457\n",
      "Length: 812, dtype: float64\n"
     ]
    }
   ],
   "source": [
    "Kern_popluation = df.loc[12180:12991, 'population']\n",
    "Kern_cumulative_cases = df.loc[12180:12991, 'cumulative_cases']\n",
    "a_list = []\n",
    "for x in range(812):\n",
    "  a_list.append(Kern_popluation)\n",
    "b_list = []\n",
    "for x in range(812):\n",
    "  b_list.append(Kern_cumulative_cases)\n",
    "for x in range(812):\n",
    "    res = [j / i for j, i in zip(b_list, a_list)]\n",
    "neg_Kern = []\n",
    "for x in range(812):\n",
    "    neg_Kern = 1 - res[x]\n",
    "    a = res[x] * Effect\n",
    "    b = neg_Kern * False_Positive\n",
    "    Accuracy = a + b\n",
    "    Kern_Data = Effect / Accuracy * res[x]\n",
    "    \n",
    "print(\"The Kern data is\", Kern_Data)"
   ]
  },
  {
   "cell_type": "code",
   "execution_count": 17,
   "id": "21d02e20",
   "metadata": {},
   "outputs": [
    {
     "name": "stdout",
     "output_type": "stream",
     "text": [
      "The Kings data is 12992    0.268873\n",
      "12993    0.269303\n",
      "12994    0.269565\n",
      "12995    0.269889\n",
      "12996    0.270130\n",
      "           ...   \n",
      "13799    0.365584\n",
      "13800    0.366765\n",
      "13801    0.367578\n",
      "13802    0.368190\n",
      "13803    0.368792\n",
      "Length: 812, dtype: float64\n"
     ]
    }
   ],
   "source": [
    "Kings_popluation = df.loc[12992:13803, 'population']\n",
    "Kings_cumulative_cases = df.loc[12992:13803, 'cumulative_cases']\n",
    "a_list = []\n",
    "for x in range(812):\n",
    "  a_list.append(Kings_popluation)\n",
    "b_list = []\n",
    "for x in range(812):\n",
    "  b_list.append(Kings_cumulative_cases)\n",
    "for x in range(812):\n",
    "    res = [j / i for j, i in zip(b_list, a_list)]\n",
    "neg_Kings = []\n",
    "for x in range(812):\n",
    "    neg_Kings = 1 - res[x]\n",
    "    a = res[x] * Effect\n",
    "    b = neg_Kings * False_Positive\n",
    "    Accuracy = a + b\n",
    "    Kings_Data = Effect / Accuracy * res[x]\n",
    "    \n",
    "print(\"The Kings data is\", Kings_Data)"
   ]
  },
  {
   "cell_type": "code",
   "execution_count": 18,
   "id": "badc9e3d",
   "metadata": {},
   "outputs": [
    {
     "name": "stdout",
     "output_type": "stream",
     "text": [
      "The Lake data is 13804    0.369421\n",
      "13805    0.369731\n",
      "13806    0.370041\n",
      "13807    0.370823\n",
      "13808    0.371305\n",
      "           ...   \n",
      "14611    0.200980\n",
      "14612    0.201530\n",
      "14613    0.202107\n",
      "14614    0.202354\n",
      "14615    0.202655\n",
      "Length: 812, dtype: float64\n"
     ]
    }
   ],
   "source": [
    "Lake_popluation = df.loc[13804:14615, 'population']\n",
    "Lake_cumulative_cases = df.loc[13804:14615, 'cumulative_cases']\n",
    "a_list = []\n",
    "for x in range(812):\n",
    "  a_list.append(Lake_popluation)\n",
    "b_list = []\n",
    "for x in range(812):\n",
    "  b_list.append(Lake_cumulative_cases)\n",
    "for x in range(812):\n",
    "    res = [j / i for j, i in zip(b_list, a_list)]\n",
    "neg_Lake = []\n",
    "for x in range(812):\n",
    "    neg_Lake = 1 - res[x]\n",
    "    a = res[x] * Effect\n",
    "    b = neg_Lake * False_Positive\n",
    "    Accuracy = a + b\n",
    "    Lake_Data = Effect / Accuracy * res[x]\n",
    "    \n",
    "print(\"The Lake data is\", Lake_Data)"
   ]
  },
  {
   "cell_type": "code",
   "execution_count": 19,
   "id": "e38b932d",
   "metadata": {},
   "outputs": [
    {
     "name": "stdout",
     "output_type": "stream",
     "text": [
      "The Lassen data is 14615    0.202655\n",
      "14616    0.203094\n",
      "14617    0.203615\n",
      "14618    0.203724\n",
      "14619    0.204327\n",
      "           ...   \n",
      "15422    0.383504\n",
      "15423    0.384016\n",
      "15424    0.384248\n",
      "15425    0.385269\n",
      "15426    0.386056\n",
      "Length: 812, dtype: float64\n"
     ]
    }
   ],
   "source": [
    "Lassen_popluation = df.loc[14615:15426, 'population']\n",
    "Lassen_cumulative_cases = df.loc[14615:15426, 'cumulative_cases']\n",
    "a_list = []\n",
    "for x in range(812):\n",
    "  a_list.append(Lassen_popluation)\n",
    "b_list = []\n",
    "for x in range(812):\n",
    "  b_list.append(Lassen_cumulative_cases)\n",
    "for x in range(812):\n",
    "    res = [j / i for j, i in zip(b_list, a_list)]\n",
    "neg_Lassen = []\n",
    "for x in range(812):\n",
    "    neg_Lassen = 1 - res[x]\n",
    "    a = res[x] * Effect\n",
    "    b = neg_Lassen * False_Positive\n",
    "    Accuracy = a + b\n",
    "    Lassen_Data = Effect / Accuracy * res[x]\n",
    "    \n",
    "print(\"The Lassen data is\", Lassen_Data)"
   ]
  },
  {
   "cell_type": "code",
   "execution_count": 20,
   "id": "d2eb3750",
   "metadata": {},
   "outputs": [
    {
     "name": "stdout",
     "output_type": "stream",
     "text": [
      "The Los data is 15427    0.386936\n",
      "15428    0.387722\n",
      "15429    0.388553\n",
      "15430    0.389199\n",
      "15431    0.389429\n",
      "           ...   \n",
      "16234    0.262379\n",
      "16235    0.262624\n",
      "16236    0.262858\n",
      "16237    0.263070\n",
      "16238    0.263262\n",
      "Length: 812, dtype: float64\n"
     ]
    }
   ],
   "source": [
    "Los_popluation = df.loc[15427:16238, 'population']\n",
    "Los_cumulative_cases = df.loc[15427:16238, 'cumulative_cases']\n",
    "a_list = []\n",
    "for x in range(812):\n",
    "  a_list.append(Los_popluation)\n",
    "b_list = []\n",
    "for x in range(812):\n",
    "  b_list.append(Los_cumulative_cases)\n",
    "for x in range(812):\n",
    "    res = [j / i for j, i in zip(b_list, a_list)]\n",
    "neg_Los = []\n",
    "for x in range(812):\n",
    "    neg_Los = 1 - res[x]\n",
    "    a = res[x] * Effect\n",
    "    b = neg_Los * False_Positive\n",
    "    Accuracy = a + b\n",
    "    Los_Data = Effect / Accuracy * res[x]\n",
    "    \n",
    "print(\"The Los data is\", Los_Data)"
   ]
  },
  {
   "cell_type": "code",
   "execution_count": 21,
   "id": "b433a21b",
   "metadata": {},
   "outputs": [
    {
     "name": "stdout",
     "output_type": "stream",
     "text": [
      "The Madera data is 16239    0.263404\n",
      "16240    0.263519\n",
      "16241    0.263757\n",
      "16242    0.263971\n",
      "16243    0.264179\n",
      "           ...   \n",
      "17046    0.244436\n",
      "17047    0.245205\n",
      "17048    0.245689\n",
      "17049    0.246246\n",
      "17050    0.247161\n",
      "Length: 812, dtype: float64\n"
     ]
    }
   ],
   "source": [
    "Madera_popluation = df.loc[16239:17050, 'population']\n",
    "Madera_cumulative_cases = df.loc[16239:17050, 'cumulative_cases']\n",
    "a_list = []\n",
    "for x in range(812):\n",
    "  a_list.append(Madera_popluation)\n",
    "b_list = []\n",
    "for x in range(812):\n",
    "  b_list.append(Madera_cumulative_cases)\n",
    "for x in range(812):\n",
    "    res = [j / i for j, i in zip(b_list, a_list)]\n",
    "neg_Madera = []\n",
    "for x in range(812):\n",
    "    neg_Madera = 1 - res[x]\n",
    "    a = res[x] * Effect\n",
    "    b = neg_Madera * False_Positive\n",
    "    Accuracy = a + b\n",
    "    Madera_Data = Effect / Accuracy * res[x]\n",
    "    \n",
    "print(\"The Madera data is\", Madera_Data)"
   ]
  },
  {
   "cell_type": "code",
   "execution_count": 22,
   "id": "f4cd4b2b",
   "metadata": {},
   "outputs": [
    {
     "name": "stdout",
     "output_type": "stream",
     "text": [
      "The Marin data is 17051    0.247895\n",
      "17052    0.248755\n",
      "17053    0.249541\n",
      "17054    0.250357\n",
      "17055    0.250900\n",
      "           ...   \n",
      "17858    0.131385\n",
      "17859    0.131615\n",
      "17860    0.131846\n",
      "17861    0.132062\n",
      "17862    0.132226\n",
      "Length: 812, dtype: float64\n"
     ]
    }
   ],
   "source": [
    "Marin_popluation = df.loc[17051:17862, 'population']\n",
    "Marin_cumulative_cases = df.loc[17051:17862, 'cumulative_cases']\n",
    "a_list = []\n",
    "for x in range(812):\n",
    "  a_list.append(Marin_popluation)\n",
    "b_list = []\n",
    "for x in range(812):\n",
    "  b_list.append(Marin_cumulative_cases)\n",
    "for x in range(812):\n",
    "    res = [j / i for j, i in zip(b_list, a_list)]\n",
    "neg_Marin = []\n",
    "for x in range(812):\n",
    "    neg_Marin = 1 - res[x]\n",
    "    a = res[x] * Effect\n",
    "    b = neg_Marin * False_Positive\n",
    "    Accuracy = a + b\n",
    "    Marin_Data = Effect / Accuracy * res[x]\n",
    "    \n",
    "print(\"The Marin data is\", Marin_Data)"
   ]
  },
  {
   "cell_type": "code",
   "execution_count": 23,
   "id": "766235f7",
   "metadata": {},
   "outputs": [
    {
     "name": "stdout",
     "output_type": "stream",
     "text": [
      "The Mariposa data is 17863    0.132323\n",
      "17864    0.132486\n",
      "17865    0.132605\n",
      "17866    0.132747\n",
      "17867    0.133044\n",
      "           ...   \n",
      "18670    0.080025\n",
      "18671    0.081532\n",
      "18672    0.083267\n",
      "18673    0.083845\n",
      "18674    0.084999\n",
      "Length: 812, dtype: float64\n"
     ]
    }
   ],
   "source": [
    "Mariposa_popluation = df.loc[17863:18674, 'population']\n",
    "Mariposa_cumulative_cases = df.loc[17863:18674, 'cumulative_cases']\n",
    "a_list = []\n",
    "for x in range(812):\n",
    "  a_list.append(Mariposa_popluation)\n",
    "b_list = []\n",
    "for x in range(812):\n",
    "  b_list.append(Mariposa_cumulative_cases)\n",
    "for x in range(812):\n",
    "    res = [j / i for j, i in zip(b_list, a_list)]\n",
    "neg_Mariposa = []\n",
    "for x in range(812):\n",
    "    neg_Mariposa = 1 - res[x]\n",
    "    a = res[x] * Effect\n",
    "    b = neg_Mariposa * False_Positive\n",
    "    Accuracy = a + b\n",
    "    Mariposa_Data = Effect / Accuracy * res[x]\n",
    "    \n",
    "print(\"The Mariposa data is\", Mariposa_Data)"
   ]
  },
  {
   "cell_type": "code",
   "execution_count": 24,
   "id": "1baba007",
   "metadata": {},
   "outputs": [
    {
     "name": "stdout",
     "output_type": "stream",
     "text": [
      "The Mendocino data is 18675    0.086152\n",
      "18676    0.087418\n",
      "18677    0.088223\n",
      "18678    0.088912\n",
      "18679    0.090059\n",
      "           ...   \n",
      "19482    0.117244\n",
      "19483    0.118048\n",
      "19484    0.119430\n",
      "19485    0.120566\n",
      "19486    0.121567\n",
      "Length: 812, dtype: float64\n"
     ]
    }
   ],
   "source": [
    "Mendocino_popluation = df.loc[18675:19486, 'population']\n",
    "Mendocino_cumulative_cases = df.loc[18675:19486, 'cumulative_cases']\n",
    "a_list = []\n",
    "for x in range(812):\n",
    "  a_list.append(Mendocino_popluation)\n",
    "b_list = []\n",
    "for x in range(812):\n",
    "  b_list.append(Mendocino_cumulative_cases)\n",
    "for x in range(812):\n",
    "    res = [j / i for j, i in zip(b_list, a_list)]\n",
    "neg_Mendocino = []\n",
    "for x in range(812):\n",
    "    neg_Mendocino = 1 - res[x]\n",
    "    a = res[x] * Effect\n",
    "    b = neg_Mendocino * False_Positive\n",
    "    Accuracy = a + b\n",
    "    Mendocino_Data = Effect / Accuracy * res[x]\n",
    "    \n",
    "print(\"The Mendocino data is\", Mendocino_Data)"
   ]
  },
  {
   "cell_type": "code",
   "execution_count": 25,
   "id": "819b2241",
   "metadata": {},
   "outputs": [
    {
     "name": "stdout",
     "output_type": "stream",
     "text": [
      "The Merced data is 19487    0.123099\n",
      "19488    0.123764\n",
      "19489    0.124938\n",
      "19490    0.125734\n",
      "19491    0.126972\n",
      "           ...   \n",
      "20294    0.221195\n",
      "20295    0.221600\n",
      "20296    0.221938\n",
      "20297    0.222270\n",
      "20298    0.222518\n",
      "Length: 812, dtype: float64\n"
     ]
    }
   ],
   "source": [
    "Merced_popluation = df.loc[19487:20298, 'population']\n",
    "Merced_cumulative_cases = df.loc[19487:20298, 'cumulative_cases']\n",
    "a_list = []\n",
    "for x in range(812):\n",
    "  a_list.append(Merced_popluation)\n",
    "b_list = []\n",
    "for x in range(812):\n",
    "  b_list.append(Merced_cumulative_cases)\n",
    "for x in range(812):\n",
    "    res = [j / i for j, i in zip(b_list, a_list)]\n",
    "neg_Merced = []\n",
    "for x in range(812):\n",
    "    neg_Merced = 1 - res[x]\n",
    "    a = res[x] * Effect\n",
    "    b = neg_Merced * False_Positive\n",
    "    Accuracy = a + b\n",
    "    Merced_Data = Effect / Accuracy * res[x]\n",
    "    \n",
    "print(\"The Merced data is\", Merced_Data)"
   ]
  },
  {
   "cell_type": "code",
   "execution_count": 26,
   "id": "b14c4e06",
   "metadata": {},
   "outputs": [
    {
     "name": "stdout",
     "output_type": "stream",
     "text": [
      "The Modoc data is 20299    0.222808\n",
      "20300    0.223363\n",
      "20301    0.223953\n",
      "20302    0.224453\n",
      "20303    0.225278\n",
      "           ...   \n",
      "21106    0.095595\n",
      "21107    0.095595\n",
      "21108    0.095595\n",
      "21109    0.095595\n",
      "21110    0.095808\n",
      "Length: 812, dtype: float64\n"
     ]
    }
   ],
   "source": [
    "Modoc_popluation = df.loc[20299:21110, 'population']\n",
    "Modoc_cumulative_cases = df.loc[20299:21110, 'cumulative_cases']\n",
    "a_list = []\n",
    "for x in range(812):\n",
    "  a_list.append(Modoc_popluation)\n",
    "b_list = []\n",
    "for x in range(812):\n",
    "  b_list.append(Modoc_cumulative_cases)\n",
    "for x in range(812):\n",
    "    res = [j / i for j, i in zip(b_list, a_list)]\n",
    "neg_Modoc = []\n",
    "for x in range(812):\n",
    "    neg_Modoc = 1 - res[x]\n",
    "    a = res[x] * Effect\n",
    "    b = neg_Modoc * False_Positive\n",
    "    Accuracy = a + b\n",
    "    Modoc_Data = Effect / Accuracy * res[x]\n",
    "    \n",
    "print(\"The Modoc data is\", Modoc_Data)"
   ]
  },
  {
   "cell_type": "code",
   "execution_count": 27,
   "id": "943fb23b",
   "metadata": {},
   "outputs": [
    {
     "name": "stdout",
     "output_type": "stream",
     "text": [
      "The Mono data is 21111    0.095808\n",
      "21112    0.095808\n",
      "21113    0.095808\n",
      "21114    0.095808\n",
      "21115    0.095808\n",
      "           ...   \n",
      "21918    0.184312\n",
      "21919    0.184312\n",
      "21920    0.184442\n",
      "21921    0.184573\n",
      "21922    0.184573\n",
      "Length: 812, dtype: float64\n"
     ]
    }
   ],
   "source": [
    "Mono_popluation = df.loc[21111:21922, 'population']\n",
    "Mono_cumulative_cases = df.loc[21111:21922, 'cumulative_cases']\n",
    "a_list = []\n",
    "for x in range(812):\n",
    "  a_list.append(Mono_popluation)\n",
    "b_list = []\n",
    "for x in range(812):\n",
    "  b_list.append(Mono_cumulative_cases)\n",
    "for x in range(812):\n",
    "    res = [j / i for j, i in zip(b_list, a_list)]\n",
    "neg_Mono = []\n",
    "for x in range(812):\n",
    "    neg_Mono = 1 - res[x]\n",
    "    a = res[x] * Effect\n",
    "    b = neg_Mono * False_Positive\n",
    "    Accuracy = a + b\n",
    "    Mono_Data = Effect / Accuracy * res[x]\n",
    "    \n",
    "print(\"The Mono data is\", Mono_Data)"
   ]
  },
  {
   "cell_type": "code",
   "execution_count": 28,
   "id": "f0335af3",
   "metadata": {},
   "outputs": [
    {
     "name": "stdout",
     "output_type": "stream",
     "text": [
      "The Monterey data is 21923    0.184573\n",
      "21924    0.184573\n",
      "21925    0.184573\n",
      "21926    0.184833\n",
      "21927    0.184964\n",
      "           ...   \n",
      "22730    0.194789\n",
      "22731    0.194817\n",
      "22732    0.194837\n",
      "22733    0.194849\n",
      "22734    0.194901\n",
      "Length: 812, dtype: float64\n"
     ]
    }
   ],
   "source": [
    "Monterey_popluation = df.loc[21923:22734, 'population']\n",
    "Monterey_cumulative_cases = df.loc[21923:22734, 'cumulative_cases']\n",
    "a_list = []\n",
    "for x in range(812):\n",
    "  a_list.append(Monterey_popluation)\n",
    "b_list = []\n",
    "for x in range(812):\n",
    "  b_list.append(Monterey_cumulative_cases)\n",
    "for x in range(812):\n",
    "    res = [j / i for j, i in zip(b_list, a_list)]\n",
    "neg_Monterey = []\n",
    "for x in range(812):\n",
    "    neg_Monterey = 1 - res[x]\n",
    "    a = res[x] * Effect\n",
    "    b = neg_Monterey * False_Positive\n",
    "    Accuracy = a + b\n",
    "    Monterey_Data = Effect / Accuracy * res[x]\n",
    "    \n",
    "print(\"The Monterey data is\", Monterey_Data)"
   ]
  },
  {
   "cell_type": "code",
   "execution_count": 29,
   "id": "9255048b",
   "metadata": {},
   "outputs": [
    {
     "name": "stdout",
     "output_type": "stream",
     "text": [
      "The Napa data is 22735    0.194917\n",
      "22736    0.194957\n",
      "22737    0.194977\n",
      "22738    0.195009\n",
      "22739    0.195041\n",
      "           ...   \n",
      "23542    0.148286\n",
      "23543    0.148368\n",
      "23544    0.148422\n",
      "23545    0.148449\n",
      "23546    0.148504\n",
      "Length: 812, dtype: float64\n"
     ]
    }
   ],
   "source": [
    "Napa_popluation = df.loc[22735:23546, 'population']\n",
    "Napa_cumulative_cases = df.loc[22735:23546, 'cumulative_cases']\n",
    "a_list = []\n",
    "for x in range(812):\n",
    "  a_list.append(Napa_popluation)\n",
    "b_list = []\n",
    "for x in range(812):\n",
    "  b_list.append(Napa_cumulative_cases)\n",
    "for x in range(812):\n",
    "    res = [j / i for j, i in zip(b_list, a_list)]\n",
    "neg_Napa = []\n",
    "for x in range(812):\n",
    "    neg_Napa = 1 - res[x]\n",
    "    a = res[x] * Effect\n",
    "    b = neg_Napa * False_Positive\n",
    "    Accuracy = a + b\n",
    "    Napa_Data = Effect / Accuracy * res[x]\n",
    "    \n",
    "print(\"The Napa data is\", Napa_Data)"
   ]
  },
  {
   "cell_type": "code",
   "execution_count": 30,
   "id": "508a1128",
   "metadata": {},
   "outputs": [
    {
     "name": "stdout",
     "output_type": "stream",
     "text": [
      "The Nevada data is 23547    0.148504\n",
      "23548    0.148558\n",
      "23549    0.148613\n",
      "23550    0.148708\n",
      "23551    0.148776\n",
      "           ...   \n",
      "24354    0.104993\n",
      "24355    0.105054\n",
      "24356    0.105135\n",
      "24357    0.105216\n",
      "24358    0.105257\n",
      "Length: 812, dtype: float64\n"
     ]
    }
   ],
   "source": [
    "Nevada_popluation = df.loc[23547:24358, 'population']\n",
    "Nevada_cumulative_cases = df.loc[23547:24358, 'cumulative_cases']\n",
    "a_list = []\n",
    "for x in range(812):\n",
    "  a_list.append(Nevada_popluation)\n",
    "b_list = []\n",
    "for x in range(812):\n",
    "  b_list.append(Nevada_cumulative_cases)\n",
    "for x in range(812):\n",
    "    res = [j / i for j, i in zip(b_list, a_list)]\n",
    "neg_Nevada = []\n",
    "for x in range(812):\n",
    "    neg_Nevada = 1 - res[x]\n",
    "    a = res[x] * Effect\n",
    "    b = neg_Nevada * False_Positive\n",
    "    Accuracy = a + b\n",
    "    Nevada_Data = Effect / Accuracy * res[x]\n",
    "    \n",
    "print(\"The Nevada data is\", Nevada_Data)"
   ]
  },
  {
   "cell_type": "code",
   "execution_count": 31,
   "id": "9b65275d",
   "metadata": {},
   "outputs": [
    {
     "name": "stdout",
     "output_type": "stream",
     "text": [
      "The Orange data is 24359    0.105399\n",
      "24360    0.105440\n",
      "24361    0.105541\n",
      "24362    0.105744\n",
      "24363    0.105846\n",
      "           ...   \n",
      "25166    0.162649\n",
      "25167    0.162661\n",
      "25168    0.162683\n",
      "25169    0.162702\n",
      "25170    0.162719\n",
      "Length: 812, dtype: float64\n"
     ]
    }
   ],
   "source": [
    "Orange_popluation = df.loc[24359:25170, 'population']\n",
    "Orange_cumulative_cases = df.loc[24359:25170, 'cumulative_cases']\n",
    "a_list = []\n",
    "for x in range(812):\n",
    "  a_list.append(Orange_popluation)\n",
    "b_list = []\n",
    "for x in range(812):\n",
    "  b_list.append(Orange_cumulative_cases)\n",
    "for x in range(812):\n",
    "    res = [j / i for j, i in zip(b_list, a_list)]\n",
    "neg_Orangec = []\n",
    "for x in range(812):\n",
    "    neg_Orange = 1 - res[x]\n",
    "    a = res[x] * Effect\n",
    "    b = neg_Orange * False_Positive\n",
    "    Accuracy = a + b\n",
    "    Orange_Data = Effect / Accuracy * res[x]\n",
    "    \n",
    "print(\"The Orange data is\",Orange_Data)"
   ]
  },
  {
   "cell_type": "code",
   "execution_count": 32,
   "id": "784e273b",
   "metadata": {},
   "outputs": [
    {
     "name": "stdout",
     "output_type": "stream",
     "text": [
      "The Out of state data is(data missing from original source) 25171    0.162740\n",
      "25172    0.162762\n",
      "25173    0.162773\n",
      "25174    0.162786\n",
      "25175    0.162799\n",
      "           ...   \n",
      "25979         NaN\n",
      "25980         NaN\n",
      "25981         NaN\n",
      "25982         NaN\n",
      "25983         NaN\n",
      "Length: 813, dtype: float64\n"
     ]
    }
   ],
   "source": [
    "Out_popluation = df.loc[25171:25983, 'population']\n",
    "Out_cumulative_cases = df.loc[25171:25983, 'cumulative_cases']\n",
    "a_list = []\n",
    "for x in range(812):\n",
    "  a_list.append(Out_popluation)\n",
    "b_list = []\n",
    "for x in range(812):\n",
    "  b_list.append(Out_cumulative_cases)\n",
    "for x in range(812):\n",
    "    res = [j / i for j, i in zip(b_list, a_list)]\n",
    "neg_Out = []\n",
    "for x in range(812):\n",
    "    neg_Out = 1 - res[x]\n",
    "    a = res[x] * Effect\n",
    "    b = neg_Out * False_Positive\n",
    "    Accuracy = a + b\n",
    "    Out_Data = Effect / Accuracy * res[x]\n",
    "    \n",
    "print(\"The Out of state data is(data missing from original source)\", Out_Data)"
   ]
  },
  {
   "cell_type": "code",
   "execution_count": 33,
   "id": "53af7d89",
   "metadata": {},
   "outputs": [
    {
     "name": "stdout",
     "output_type": "stream",
     "text": [
      "The Placer data is 25984         NaN\n",
      "25985         NaN\n",
      "25986         NaN\n",
      "25987         NaN\n",
      "25988         NaN\n",
      "           ...   \n",
      "26791    0.119939\n",
      "26792    0.120067\n",
      "26793    0.120210\n",
      "26794    0.120362\n",
      "26795    0.120505\n",
      "Length: 812, dtype: float64\n"
     ]
    }
   ],
   "source": [
    "Placer_popluation = df.loc[25984:26795, 'population']\n",
    "Placer_cumulative_cases = df.loc[25984:26795, 'cumulative_cases']\n",
    "a_list = []\n",
    "for x in range(812):\n",
    "  a_list.append(Placer_popluation)\n",
    "b_list = []\n",
    "for x in range(812):\n",
    "  b_list.append(Placer_cumulative_cases)\n",
    "for x in range(812):\n",
    "    res = [j / i for j, i in zip(b_list, a_list)]\n",
    "neg_Placer = []\n",
    "for x in range(812):\n",
    "    neg_Placer = 1 - res[x]\n",
    "    a = res[x] * Effect\n",
    "    b = neg_Placer * False_Positive\n",
    "    Accuracy = a + b\n",
    "    Placer_Data = Effect / Accuracy * res[x]\n",
    "    \n",
    "print(\"The Placer data is\", Placer_Data)"
   ]
  },
  {
   "cell_type": "code",
   "execution_count": 34,
   "id": "d093bfde",
   "metadata": {},
   "outputs": [
    {
     "name": "stdout",
     "output_type": "stream",
     "text": [
      "The Plumas data is 26796    0.120662\n",
      "26797    0.120770\n",
      "26798    0.120868\n",
      "26799    0.120957\n",
      "26800    0.121084\n",
      "           ...   \n",
      "27603    0.077793\n",
      "27604    0.077902\n",
      "27605    0.077902\n",
      "27606    0.078011\n",
      "27607    0.078120\n",
      "Length: 812, dtype: float64\n"
     ]
    }
   ],
   "source": [
    "Plumas_popluation = df.loc[26796:27607, 'population']\n",
    "Plumas_cumulative_cases = df.loc[26796:27607, 'cumulative_cases']\n",
    "a_list = []\n",
    "for x in range(812):\n",
    "  a_list.append(Plumas_popluation)\n",
    "b_list = []\n",
    "for x in range(812):\n",
    "  b_list.append(Plumas_cumulative_cases)\n",
    "for x in range(812):\n",
    "    res = [j / i for j, i in zip(b_list, a_list)]\n",
    "neg_Plumas = []\n",
    "for x in range(812):\n",
    "    neg_Plumas = 1 - res[x]\n",
    "    a = res[x] * Effect\n",
    "    b = neg_Plumas * False_Positive\n",
    "    Accuracy = a + b\n",
    "    Plumas_Data = Effect / Accuracy * res[x]\n",
    "    \n",
    "print(\"The Plumas data is\", Plumas_Data)"
   ]
  },
  {
   "cell_type": "code",
   "execution_count": 35,
   "id": "08999d10",
   "metadata": {},
   "outputs": [
    {
     "name": "stdout",
     "output_type": "stream",
     "text": [
      "The Riverside data is 27607    0.078120\n",
      "27608    0.078229\n",
      "27609    0.078338\n",
      "27610    0.078338\n",
      "27611    0.078446\n",
      "           ...   \n",
      "28414    0.231975\n",
      "28415    0.232054\n",
      "28416    0.232112\n",
      "28417    0.232167\n",
      "28418    0.232260\n",
      "Length: 812, dtype: float64\n"
     ]
    }
   ],
   "source": [
    "Riverside_popluation = df.loc[27607:28418, 'population']\n",
    "Riverside_cumulative_cases = df.loc[27607:28418, 'cumulative_cases']\n",
    "Effect = 0.95\n",
    "False_Positive = 0.42\n",
    "a_list = []\n",
    "for x in range(812):\n",
    "  a_list.append(Riverside_popluation)\n",
    "b_list = []\n",
    "for x in range(812):\n",
    "  b_list.append(Riverside_cumulative_cases)\n",
    "for x in range(812):\n",
    "    res = [j / i for j, i in zip(b_list, a_list)]\n",
    "neg_Riverside = []\n",
    "for x in range(812):\n",
    "    neg_Riverside = 1 - res[x]\n",
    "    a = res[x] * Effect\n",
    "    b = neg_Riverside * False_Positive\n",
    "    Accuracy = a + b\n",
    "    Riverside_Data = Effect / Accuracy * res[x]\n",
    "    \n",
    "print(\"The Riverside data is\", Riverside_Data)"
   ]
  },
  {
   "cell_type": "code",
   "execution_count": 36,
   "id": "a2d8911f",
   "metadata": {},
   "outputs": [
    {
     "name": "stdout",
     "output_type": "stream",
     "text": [
      "The Sacramento data is 28419    0.232337\n",
      "28420    0.232419\n",
      "28421    0.232496\n",
      "28422    0.232568\n",
      "28423    0.232621\n",
      "           ...   \n",
      "29226    0.132079\n",
      "29227    0.132295\n",
      "29228    0.132535\n",
      "29229    0.132704\n",
      "29230    0.132921\n",
      "Length: 812, dtype: float64\n"
     ]
    }
   ],
   "source": [
    "Sacramento_popluation = df.loc[28419:29230, 'population']\n",
    "Sacramento_cumulative_cases = df.loc[28419:29230, 'cumulative_cases']\n",
    "Effect = 0.95\n",
    "False_Positive = 0.42\n",
    "a_list = []\n",
    "for x in range(812):\n",
    "  a_list.append(Sacramento_popluation)\n",
    "b_list = []\n",
    "for x in range(812):\n",
    "  b_list.append(Sacramento_cumulative_cases)\n",
    "for x in range(812):\n",
    "    res = [j / i for j, i in zip(b_list, a_list)]\n",
    "neg_Sacramento = []\n",
    "for x in range(812):\n",
    "    neg_Sacramento = 1 - res[x]\n",
    "    a = res[x] * Effect\n",
    "    b = neg_Sacramento * False_Positive\n",
    "    Accuracy = a + b\n",
    "    Sacramento_Data = Effect / Accuracy * res[x]\n",
    "    \n",
    "print(\"The Sacramento data is\", Sacramento_Data)"
   ]
  },
  {
   "cell_type": "code",
   "execution_count": 37,
   "id": "20800560",
   "metadata": {},
   "outputs": [
    {
     "name": "stdout",
     "output_type": "stream",
     "text": [
      "The Benito data is 29231    0.133099\n",
      "29232    0.133231\n",
      "29233    0.133364\n",
      "29234    0.133610\n",
      "29235    0.133810\n",
      "           ...   \n",
      "30038    0.184802\n",
      "30039    0.184887\n",
      "30040    0.184944\n",
      "30041    0.184944\n",
      "30042    0.185058\n",
      "Length: 812, dtype: float64\n"
     ]
    }
   ],
   "source": [
    "Benito_popluation = df.loc[29231:30042, 'population']\n",
    "Benito_cumulative_cases = df.loc[29231:30042, 'cumulative_cases']\n",
    "Effect = 0.95\n",
    "False_Positive = 0.42\n",
    "a_list = []\n",
    "for x in range(812):\n",
    "  a_list.append(Benito_popluation)\n",
    "b_list = []\n",
    "for x in range(812):\n",
    "  b_list.append(Benito_cumulative_cases)\n",
    "for x in range(812):\n",
    "    res = [j / i for j, i in zip(b_list, a_list)]\n",
    "neg_Benito = []\n",
    "for x in range(812):\n",
    "    neg_Benito = 1 - res[x]\n",
    "    a = res[x] * Effect\n",
    "    b = neg_Benito * False_Positive\n",
    "    Accuracy = a + b\n",
    "    Benito_Data = Effect / Accuracy * res[x]\n",
    "    \n",
    "print(\"The Benito data is\", Benito_Data)"
   ]
  },
  {
   "cell_type": "code",
   "execution_count": 38,
   "id": "3b8e7844",
   "metadata": {},
   "outputs": [
    {
     "name": "stdout",
     "output_type": "stream",
     "text": [
      "The Benardino data is 30043    0.185228\n",
      "30044    0.185313\n",
      "30045    0.185455\n",
      "30046    0.185484\n",
      "30047    0.185569\n",
      "           ...   \n",
      "30850    0.251774\n",
      "30851    0.251837\n",
      "30852    0.251951\n",
      "30853    0.252033\n",
      "30854    0.252119\n",
      "Length: 812, dtype: float64\n"
     ]
    }
   ],
   "source": [
    "Benardino_popluation = df.loc[30043:30854, 'population']\n",
    "Benardino_cumulative_cases = df.loc[30043:30854, 'cumulative_cases']\n",
    "Effect = 0.95\n",
    "False_Positive = 0.42\n",
    "a_list = []\n",
    "for x in range(812):\n",
    "  a_list.append(Benardino_popluation)\n",
    "b_list = []\n",
    "for x in range(812):\n",
    "  b_list.append(Benardino_cumulative_cases)\n",
    "for x in range(812):\n",
    "    res = [j / i for j, i in zip(b_list, a_list)]\n",
    "neg_Benardino = []\n",
    "for x in range(812):\n",
    "    neg_Benardino = 1 - res[x]\n",
    "    a = res[x] * Effect\n",
    "    b = neg_Benardino * False_Positive\n",
    "    Accuracy = a + b\n",
    "    Benardino_Data = Effect / Accuracy * res[x]\n",
    "    \n",
    "print(\"The Benardino data is\", Benardino_Data)"
   ]
  },
  {
   "cell_type": "code",
   "execution_count": 39,
   "id": "f3bfa635",
   "metadata": {},
   "outputs": [
    {
     "name": "stdout",
     "output_type": "stream",
     "text": [
      "The Diego data is 30855    0.252189\n",
      "30856    0.252262\n",
      "30857    0.252305\n",
      "30858    0.252346\n",
      "30859    0.252439\n",
      "           ...   \n",
      "31662    0.160812\n",
      "31663    0.161022\n",
      "31664    0.161186\n",
      "31665    0.161349\n",
      "31666    0.161475\n",
      "Length: 812, dtype: float64\n"
     ]
    }
   ],
   "source": [
    "Diego_popluation = df.loc[30855:31666, 'population']\n",
    "Diego_cumulative_cases = df.loc[30855:31666, 'cumulative_cases']\n",
    "Effect = 0.95\n",
    "False_Positive = 0.42\n",
    "a_list = []\n",
    "for x in range(812):\n",
    "  a_list.append(Diego_popluation)\n",
    "b_list = []\n",
    "for x in range(812):\n",
    "  b_list.append(Diego_cumulative_cases)\n",
    "for x in range(812):\n",
    "    res = [j / i for j, i in zip(b_list, a_list)]\n",
    "neg_Diego = []\n",
    "for x in range(812):\n",
    "    neg_Diego = 1 - res[x]\n",
    "    a = res[x] * Effect\n",
    "    b = neg_Diego * False_Positive\n",
    "    Accuracy = a + b\n",
    "    Diego_Data = Effect / Accuracy * res[x]\n",
    "    \n",
    "print(\"The Diego data is\", Diego_Data)"
   ]
  },
  {
   "cell_type": "code",
   "execution_count": 40,
   "id": "09f1ddec",
   "metadata": {},
   "outputs": [
    {
     "name": "stdout",
     "output_type": "stream",
     "text": [
      "The Francisco data is 31667    0.161581\n",
      "31668    0.161746\n",
      "31669    0.161923\n",
      "31670    0.162059\n",
      "31671    0.162205\n",
      "           ...   \n",
      "32474    0.080921\n",
      "32475    0.081059\n",
      "32476    0.081175\n",
      "32477    0.081346\n",
      "32478    0.081515\n",
      "Length: 812, dtype: float64\n"
     ]
    }
   ],
   "source": [
    "Francisco_popluation = df.loc[31667:32478, 'population']\n",
    "Francisco_cumulative_cases = df.loc[31667:32478, 'cumulative_cases']\n",
    "Effect = 0.95\n",
    "False_Positive = 0.42\n",
    "a_list = []\n",
    "for x in range(812):\n",
    "  a_list.append(Francisco_popluation)\n",
    "b_list = []\n",
    "for x in range(812):\n",
    "  b_list.append(Francisco_cumulative_cases)\n",
    "for x in range(812):\n",
    "    res = [j / i for j, i in zip(b_list, a_list)]\n",
    "neg_Francisco = []\n",
    "for x in range(812):\n",
    "    neg_Francisco = 1 - res[x]\n",
    "    a = res[x] * Effect\n",
    "    b = neg_Francisco * False_Positive\n",
    "    Accuracy = a + b\n",
    "    Francisco_Data = Effect / Accuracy * res[x]\n",
    "    \n",
    "print(\"The Francisco data is\", Francisco_Data)"
   ]
  },
  {
   "cell_type": "code",
   "execution_count": 41,
   "id": "401182c7",
   "metadata": {},
   "outputs": [
    {
     "name": "stdout",
     "output_type": "stream",
     "text": [
      "The Joaquin data is 32479    0.081678\n",
      "32480    0.081854\n",
      "32481    0.081988\n",
      "32482    0.082099\n",
      "32483    0.082196\n",
      "           ...   \n",
      "33286    0.166397\n",
      "33287    0.166887\n",
      "33288    0.167410\n",
      "33289    0.167951\n",
      "33290    0.168485\n",
      "Length: 812, dtype: float64\n"
     ]
    }
   ],
   "source": [
    "Joaquin_popluation = df.loc[32479:33290, 'population']\n",
    "Joaquin_cumulative_cases = df.loc[32479:33290, 'cumulative_cases']\n",
    "Effect = 0.95\n",
    "False_Positive = 0.42\n",
    "a_list = []\n",
    "for x in range(812):\n",
    "  a_list.append(Joaquin_popluation)\n",
    "b_list = []\n",
    "for x in range(812):\n",
    "  b_list.append(Joaquin_cumulative_cases)\n",
    "for x in range(812):\n",
    "    res = [j / i for j, i in zip(b_list, a_list)]\n",
    "neg_Joaquin = []\n",
    "for x in range(812):\n",
    "    neg_Joaquin = 1 - res[x]\n",
    "    a = res[x] * Effect\n",
    "    b = neg_Joaquin * False_Positive\n",
    "    Accuracy = a + b\n",
    "    Joaquin_Data = Effect / Accuracy * res[x]\n",
    "    \n",
    "print(\"The Joaquin data is\", Joaquin_Data)"
   ]
  },
  {
   "cell_type": "code",
   "execution_count": 42,
   "id": "adc0adde",
   "metadata": {},
   "outputs": [
    {
     "name": "stdout",
     "output_type": "stream",
     "text": [
      "The Obispo data is 33291    0.168839\n",
      "33292    0.169026\n",
      "33293    0.169676\n",
      "33294    0.170059\n",
      "33295    0.170471\n",
      "           ...   \n",
      "34098    0.130680\n",
      "34099    0.131279\n",
      "34100    0.131899\n",
      "34101    0.132344\n",
      "34102    0.133200\n",
      "Length: 812, dtype: float64\n"
     ]
    }
   ],
   "source": [
    "Obispo_popluation = df.loc[33291:34102, 'population']\n",
    "Obispo_cumulative_cases = df.loc[33291:34102, 'cumulative_cases']\n",
    "Effect = 0.95\n",
    "False_Positive = 0.42\n",
    "a_list = []\n",
    "for x in range(812):\n",
    "  a_list.append(Obispo_popluation)\n",
    "b_list = []\n",
    "for x in range(812):\n",
    "  b_list.append(Obispo_cumulative_cases)\n",
    "for x in range(812):\n",
    "    res = [j / i for j, i in zip(b_list, a_list)]\n",
    "neg_Obispo = []\n",
    "for x in range(812):\n",
    "    neg_Obispo = 1 - res[x]\n",
    "    a = res[x] * Effect\n",
    "    b = neg_Obispo * False_Positive\n",
    "    Accuracy = a + b\n",
    "    Obispo_Data = Effect / Accuracy * res[x]\n",
    "    \n",
    "print(\"The Obispo data is\", Obispo_Data)"
   ]
  },
  {
   "cell_type": "code",
   "execution_count": 43,
   "id": "a7776b52",
   "metadata": {},
   "outputs": [
    {
     "name": "stdout",
     "output_type": "stream",
     "text": [
      "The Mateo data is 34103    0.134131\n",
      "34104    0.134693\n",
      "34105    0.135435\n",
      "34106    0.136128\n",
      "34107    0.136543\n",
      "           ...   \n",
      "34910    0.088010\n",
      "34911    0.089303\n",
      "34912    0.090470\n",
      "34913    0.091494\n",
      "34914    0.092384\n",
      "Length: 812, dtype: float64\n"
     ]
    }
   ],
   "source": [
    "Mateo_popluation = df.loc[34103:34914, 'population']\n",
    "Mateo_cumulative_cases = df.loc[34103:34914, 'cumulative_cases']\n",
    "Effect = 0.95\n",
    "False_Positive = 0.42\n",
    "a_list = []\n",
    "for x in range(812):\n",
    "  a_list.append(Mateo_popluation)\n",
    "b_list = []\n",
    "for x in range(812):\n",
    "  b_list.append(Mateo_cumulative_cases)\n",
    "for x in range(812):\n",
    "    res = [j / i for j, i in zip(b_list, a_list)]\n",
    "neg_Mateo = []\n",
    "for x in range(812):\n",
    "    neg_Mateo = 1 - res[x]\n",
    "    a = res[x] * Effect\n",
    "    b = neg_Mateo * False_Positive\n",
    "    Accuracy = a + b\n",
    "    Mateo_Data = Effect / Accuracy * res[x]\n",
    "    \n",
    "print(\"The Mateo data is\", Mateo_Data)"
   ]
  },
  {
   "cell_type": "code",
   "execution_count": 44,
   "id": "40e190b6",
   "metadata": {},
   "outputs": [
    {
     "name": "stdout",
     "output_type": "stream",
     "text": [
      "The Barbara data is 34915    0.093348\n",
      "34916    0.093988\n",
      "34917    0.094416\n",
      "34918    0.095076\n",
      "34919    0.095894\n",
      "           ...   \n",
      "35722    0.089518\n",
      "35723    0.091314\n",
      "35724    0.092403\n",
      "35725    0.093828\n",
      "35726    0.095114\n",
      "Length: 812, dtype: float64\n"
     ]
    }
   ],
   "source": [
    "Barbara_popluation = df.loc[34915:35726, 'population']\n",
    "Barbara_cumulative_cases = df.loc[34915:35726, 'cumulative_cases']\n",
    "Effect = 0.95\n",
    "False_Positive = 0.42\n",
    "a_list = []\n",
    "for x in range(812):\n",
    "  a_list.append(Barbara_popluation)\n",
    "b_list = []\n",
    "for x in range(812):\n",
    "  b_list.append(Barbara_cumulative_cases)\n",
    "for x in range(812):\n",
    "    res = [j / i for j, i in zip(b_list, a_list)]\n",
    "neg_Barbara = []\n",
    "for x in range(812):\n",
    "    neg_Barbara = 1 - res[x]\n",
    "    a = res[x] * Effect\n",
    "    b = neg_Barbara * False_Positive\n",
    "    Accuracy = a + b\n",
    "    Barbara_Data = Effect / Accuracy * res[x]\n",
    "    \n",
    "print(\"The Barbara data is\", Barbara_Data)"
   ]
  },
  {
   "cell_type": "code",
   "execution_count": 45,
   "id": "9da4337f",
   "metadata": {},
   "outputs": [
    {
     "name": "stdout",
     "output_type": "stream",
     "text": [
      "The Clara data is 35727    0.098365\n",
      "35728    0.100677\n",
      "35729    0.102640\n",
      "35730    0.104791\n",
      "35731    0.106665\n",
      "           ...   \n",
      "36534    0.069249\n",
      "36535    0.070110\n",
      "36536    0.071603\n",
      "36537    0.072865\n",
      "36538    0.074099\n",
      "Length: 812, dtype: float64\n"
     ]
    }
   ],
   "source": [
    "Clara_popluation = df.loc[35727:36538, 'population']\n",
    "Clara_cumulative_cases = df.loc[35727:36538, 'cumulative_cases']\n",
    "Effect = 0.95\n",
    "False_Positive = 0.42\n",
    "a_list = []\n",
    "for x in range(812):\n",
    "  a_list.append(Clara_popluation)\n",
    "b_list = []\n",
    "for x in range(812):\n",
    "  b_list.append(Clara_cumulative_cases)\n",
    "for x in range(812):\n",
    "    res = [j / i for j, i in zip(b_list, a_list)]\n",
    "neg_Clara = []\n",
    "for x in range(812):\n",
    "    neg_Clara = 1 - res[x]\n",
    "    a = res[x] * Effect\n",
    "    b = neg_Clara * False_Positive\n",
    "    Accuracy = a + b\n",
    "    Clara_Data = Effect / Accuracy * res[x]\n",
    "    \n",
    "print(\"The Clara data is\", Clara_Data)"
   ]
  },
  {
   "cell_type": "code",
   "execution_count": 46,
   "id": "2cc350a1",
   "metadata": {},
   "outputs": [
    {
     "name": "stdout",
     "output_type": "stream",
     "text": [
      "The Cruz data is 36539    0.075059\n",
      "36540    0.075698\n",
      "36541    0.076868\n",
      "36542    0.077994\n",
      "36543    0.079699\n",
      "           ...   \n",
      "37346    0.050642\n",
      "37347    0.052029\n",
      "37348    0.053265\n",
      "37349    0.054562\n",
      "37350    0.055439\n",
      "Length: 812, dtype: float64\n"
     ]
    }
   ],
   "source": [
    "Cruz_popluation = df.loc[36539:37350, 'population']\n",
    "Cruz_cumulative_cases = df.loc[36539:37350, 'cumulative_cases']\n",
    "Effect = 0.95\n",
    "False_Positive = 0.42\n",
    "a_list = []\n",
    "for x in range(812):\n",
    "  a_list.append(Cruz_popluation)\n",
    "b_list = []\n",
    "for x in range(812):\n",
    "  b_list.append(Cruz_cumulative_cases)\n",
    "for x in range(812):\n",
    "    res = [j / i for j, i in zip(b_list, a_list)]\n",
    "neg_Cruz = []\n",
    "for x in range(812):\n",
    "    neg_Cruz = 1 - res[x]\n",
    "    a = res[x] * Effect\n",
    "    b = neg_Cruz * False_Positive\n",
    "    Accuracy = a + b\n",
    "    Cruz_Data = Effect / Accuracy * res[x]\n",
    "    \n",
    "print(\"The Cruz data is\", Cruz_Data)"
   ]
  },
  {
   "cell_type": "code",
   "execution_count": 47,
   "id": "345e4697",
   "metadata": {},
   "outputs": [
    {
     "name": "stdout",
     "output_type": "stream",
     "text": [
      "The Shasta data is 37351    0.056198\n",
      "37352    0.058125\n",
      "37353    0.059561\n",
      "37354    0.060987\n",
      "37355    0.062403\n",
      "           ...   \n",
      "38158    0.068907\n",
      "38159    0.069811\n",
      "38160    0.070715\n",
      "38161    0.072730\n",
      "38162    0.074425\n",
      "Length: 812, dtype: float64\n"
     ]
    }
   ],
   "source": [
    "Shasta_popluation = df.loc[37351:38162, 'population']\n",
    "Shasta_cumulative_cases = df.loc[37351:38162, 'cumulative_cases']\n",
    "Effect = 0.95\n",
    "False_Positive = 0.42\n",
    "a_list = []\n",
    "for x in range(812):\n",
    "  a_list.append(Shasta_popluation)\n",
    "b_list = []\n",
    "for x in range(812):\n",
    "  b_list.append(Shasta_cumulative_cases)\n",
    "for x in range(812):\n",
    "    res = [j / i for j, i in zip(b_list, a_list)]\n",
    "neg_Shasta = []\n",
    "for x in range(812):\n",
    "    neg_Shasta = 1 - res[x]\n",
    "    a = res[x] * Effect\n",
    "    b = neg_Shasta * False_Positive\n",
    "    Accuracy = a + b\n",
    "    Shasta_Data = Effect / Accuracy * res[x]\n",
    "    \n",
    "print(\"The Shasta data is\", Shasta_Data)"
   ]
  },
  {
   "cell_type": "code",
   "execution_count": 48,
   "id": "b50eda09",
   "metadata": {},
   "outputs": [
    {
     "name": "stdout",
     "output_type": "stream",
     "text": [
      "The Sierra data is 38163    0.075884\n",
      "38164    0.077316\n",
      "38165    0.078584\n",
      "38166    0.079606\n",
      "38167    0.080314\n",
      "           ...   \n",
      "38970    0.010826\n",
      "38971    0.010826\n",
      "38972    0.012260\n",
      "38973    0.012260\n",
      "38974    0.012260\n",
      "Length: 812, dtype: float64\n"
     ]
    }
   ],
   "source": [
    "Sierra_popluation = df.loc[38163:38974, 'population']\n",
    "Sierra_cumulative_cases = df.loc[38163:38974, 'cumulative_cases']\n",
    "Effect = 0.95\n",
    "False_Positive = 0.42\n",
    "a_list = []\n",
    "for x in range(812):\n",
    "  a_list.append(Sierra_popluation)\n",
    "b_list = []\n",
    "for x in range(812):\n",
    "  b_list.append(Sierra_cumulative_cases)\n",
    "for x in range(812):\n",
    "    res = [j / i for j, i in zip(b_list, a_list)]\n",
    "neg_Sierra = []\n",
    "for x in range(812):\n",
    "    neg_Sierra = 1 - res[x]\n",
    "    a = res[x] * Effect\n",
    "    b = neg_Sierra * False_Positive\n",
    "    Accuracy = a + b\n",
    "    Sierra_Data = Effect / Accuracy * res[x]\n",
    "    \n",
    "print(\"The Sierra data is\", Sierra_Data)"
   ]
  },
  {
   "cell_type": "code",
   "execution_count": 49,
   "id": "3e584cbc",
   "metadata": {},
   "outputs": [
    {
     "name": "stdout",
     "output_type": "stream",
     "text": [
      "The Siskiyou data is 38945    0.004346\n",
      "38946    0.004346\n",
      "38947    0.004346\n",
      "38948    0.004346\n",
      "38949    0.004346\n",
      "           ...   \n",
      "39752    0.008604\n",
      "39753    0.008604\n",
      "39754    0.008705\n",
      "39755    0.008705\n",
      "39756    0.008807\n",
      "Length: 812, dtype: float64\n"
     ]
    }
   ],
   "source": [
    "Siskiyou_popluation = df.loc[38945:39756, 'population']\n",
    "Siskiyou_cumulative_cases = df.loc[38945:39756, 'cumulative_cases']\n",
    "Effect = 0.95\n",
    "False_Positive = 0.42\n",
    "a_list = []\n",
    "for x in range(812):\n",
    "  a_list.append(Siskiyou_popluation)\n",
    "b_list = []\n",
    "for x in range(812):\n",
    "  b_list.append(Siskiyou_cumulative_cases)\n",
    "for x in range(812):\n",
    "    res = [j / i for j, i in zip(b_list, a_list)]\n",
    "neg_Siskiyou = []\n",
    "for x in range(812):\n",
    "    neg_Siskiyou = 1 - res[x]\n",
    "    a = res[x] * Effect\n",
    "    b = neg_Siskiyou * False_Positive\n",
    "    Accuracy = a + b\n",
    "    Siskiyou_Data = Effect / Accuracy * res[x]\n",
    "    \n",
    "print(\"The Siskiyou data is\", Siskiyou_Data)"
   ]
  },
  {
   "cell_type": "code",
   "execution_count": 50,
   "id": "3483cc53",
   "metadata": {},
   "outputs": [
    {
     "name": "stdout",
     "output_type": "stream",
     "text": [
      "The Solano data is 39757    0.008807\n",
      "39758    0.008858\n",
      "39759    0.008909\n",
      "39760    0.008960\n",
      "39761    0.008960\n",
      "           ...   \n",
      "40564    0.031787\n",
      "40565    0.031866\n",
      "40566    0.031959\n",
      "40567    0.032131\n",
      "40568    0.032308\n",
      "Length: 812, dtype: float64\n"
     ]
    }
   ],
   "source": [
    "Solano_popluation = df.loc[39757:40568, 'population']\n",
    "Solano_cumulative_cases = df.loc[39757:40568, 'cumulative_cases']\n",
    "Effect = 0.95\n",
    "False_Positive = 0.42\n",
    "a_list = []\n",
    "for x in range(812):\n",
    "  a_list.append(Solano_popluation)\n",
    "b_list = []\n",
    "for x in range(812):\n",
    "  b_list.append(Solano_cumulative_cases)\n",
    "for x in range(812):\n",
    "    res = [j / i for j, i in zip(b_list, a_list)]\n",
    "neg_Solano = []\n",
    "for x in range(812):\n",
    "    neg_Solano = 1 - res[x]\n",
    "    a = res[x] * Effect\n",
    "    b = neg_Solano * False_Positive\n",
    "    Accuracy = a + b\n",
    "    Solano_Data = Effect / Accuracy * res[x]\n",
    "    \n",
    "print(\"The Solano data is\", Solano_Data)"
   ]
  },
  {
   "cell_type": "code",
   "execution_count": 51,
   "id": "6b613a57",
   "metadata": {},
   "outputs": [
    {
     "name": "stdout",
     "output_type": "stream",
     "text": [
      "The Sonoma data is 40569    0.032475\n",
      "40570    0.032681\n",
      "40571    0.032867\n",
      "40572    0.033015\n",
      "40573    0.033142\n",
      "           ...   \n",
      "41376    0.031225\n",
      "41377    0.031502\n",
      "41378    0.031674\n",
      "41379    0.031942\n",
      "41380    0.032223\n",
      "Length: 812, dtype: float64\n"
     ]
    }
   ],
   "source": [
    "Sonoma_popluation = df.loc[40569:41380, 'population']\n",
    "Sonoma_cumulative_cases = df.loc[40569:41380, 'cumulative_cases']\n",
    "Effect = 0.95\n",
    "False_Positive = 0.42\n",
    "a_list = []\n",
    "for x in range(812):\n",
    "  a_list.append(Sonoma_popluation)\n",
    "b_list = []\n",
    "for x in range(812):\n",
    "  b_list.append(Sonoma_cumulative_cases)\n",
    "for x in range(812):\n",
    "    res = [j / i for j, i in zip(b_list, a_list)]\n",
    "neg_Sonoma = []\n",
    "for x in range(812):\n",
    "    neg_Sonoma = 1 - res[x]\n",
    "    a = res[x] * Effect\n",
    "    b = neg_Sonoma * False_Positive\n",
    "    Accuracy = a + b\n",
    "    Sonoma_Data = Effect / Accuracy * res[x]\n",
    "    \n",
    "print(\"The Sonoma data is\", Sonoma_Data)"
   ]
  },
  {
   "cell_type": "code",
   "execution_count": 52,
   "id": "96d5df68",
   "metadata": {},
   "outputs": [
    {
     "name": "stdout",
     "output_type": "stream",
     "text": [
      "The Stanislaus data is 41381    0.032434\n",
      "41382    0.032579\n",
      "41383    0.033035\n",
      "41384    0.033368\n",
      "41385    0.033715\n",
      "           ...   \n",
      "42188    0.060799\n",
      "42189    0.060994\n",
      "42190    0.061121\n",
      "42191    0.061301\n",
      "42192    0.061467\n",
      "Length: 812, dtype: float64\n"
     ]
    }
   ],
   "source": [
    "Stanislaus_popluation = df.loc[41381:42192, 'population']\n",
    "Stanislaus_cumulative_cases = df.loc[41381:42192, 'cumulative_cases']\n",
    "Effect = 0.95\n",
    "False_Positive = 0.42\n",
    "a_list = []\n",
    "for x in range(812):\n",
    "  a_list.append(Stanislaus_popluation)\n",
    "b_list = []\n",
    "for x in range(812):\n",
    "  b_list.append(Stanislaus_cumulative_cases)\n",
    "for x in range(812):\n",
    "    res = [j / i for j, i in zip(b_list, a_list)]\n",
    "neg_Stanislaus = []\n",
    "for x in range(812):\n",
    "    neg_Stanislaus = 1 - res[x]\n",
    "    a = res[x] * Effect\n",
    "    b = neg_Stanislaus * False_Positive\n",
    "    Accuracy = a + b\n",
    "    Stanislaus_Data = Effect / Accuracy * res[x]\n",
    "    \n",
    "print(\"The Stanislaus data is\", Stanislaus_Data)"
   ]
  },
  {
   "cell_type": "code",
   "execution_count": 53,
   "id": "504814f7",
   "metadata": {},
   "outputs": [
    {
     "name": "stdout",
     "output_type": "stream",
     "text": [
      "The Sutter data is 42193    0.061710\n",
      "42194    0.061950\n",
      "42195    0.062097\n",
      "42196    0.062299\n",
      "42197    0.062441\n",
      "           ...   \n",
      "43000    0.027610\n",
      "43001    0.028066\n",
      "43002    0.028460\n",
      "43003    0.028812\n",
      "43004    0.029185\n",
      "Length: 812, dtype: float64\n"
     ]
    }
   ],
   "source": [
    "Sutter_popluation = df.loc[42193:43004, 'population']\n",
    "Sutter_cumulative_cases = df.loc[42193:43004, 'cumulative_cases']\n",
    "Effect = 0.95\n",
    "False_Positive = 0.42\n",
    "a_list = []\n",
    "for x in range(812):\n",
    "  a_list.append(Sutter_popluation)\n",
    "b_list = []\n",
    "for x in range(812):\n",
    "  b_list.append(Sutter_cumulative_cases)\n",
    "for x in range(812):\n",
    "    res = [j / i for j, i in zip(b_list, a_list)]\n",
    "neg_Sutter = []\n",
    "for x in range(812):\n",
    "    neg_Sutter = 1 - res[x]\n",
    "    a = res[x] * Effect\n",
    "    b = neg_Sutter * False_Positive\n",
    "    Accuracy = a + b\n",
    "    Sutter_Data = Effect / Accuracy * res[x]\n",
    "    \n",
    "print(\"The Sutter data is\", Sutter_Data)"
   ]
  },
  {
   "cell_type": "code",
   "execution_count": 54,
   "id": "e10c49e2",
   "metadata": {},
   "outputs": [
    {
     "name": "stdout",
     "output_type": "stream",
     "text": [
      "The Tehama data is 43005    0.029598\n",
      "43006    0.029805\n",
      "43007    0.029909\n",
      "43008    0.030364\n",
      "43009    0.030674\n",
      "           ...   \n",
      "43812    0.011529\n",
      "43813    0.011868\n",
      "43814    0.012173\n",
      "43815    0.012308\n",
      "43816    0.012342\n",
      "Length: 812, dtype: float64\n"
     ]
    }
   ],
   "source": [
    "Tehama_popluation = df.loc[43005:43816, 'population']\n",
    "Tehama_cumulative_cases = df.loc[43005:43816, 'cumulative_cases']\n",
    "Effect = 0.95\n",
    "False_Positive = 0.42\n",
    "a_list = []\n",
    "for x in range(812):\n",
    "  a_list.append(Tehama_popluation)\n",
    "b_list = []\n",
    "for x in range(812):\n",
    "  b_list.append(Tehama_cumulative_cases)\n",
    "for x in range(812):\n",
    "    res = [j / i for j, i in zip(b_list, a_list)]\n",
    "neg_Tehama = []\n",
    "for x in range(812):\n",
    "    neg_Tehama = 1 - res[x]\n",
    "    a = res[x] * Effect\n",
    "    b = neg_Tehama * False_Positive\n",
    "    Accuracy = a + b\n",
    "    Tehama_Data = Effect / Accuracy * res[x]\n",
    "    \n",
    "print(\"The Tehama data is\", Tehama_Data)"
   ]
  },
  {
   "cell_type": "code",
   "execution_count": 55,
   "id": "f705a2f7",
   "metadata": {},
   "outputs": [
    {
     "name": "stdout",
     "output_type": "stream",
     "text": [
      "The Trinity data is 43817    0.012681\n",
      "43818    0.012985\n",
      "43819    0.013324\n",
      "43820    0.013527\n",
      "43821    0.013729\n",
      "           ...   \n",
      "44624    0.004562\n",
      "44625    0.004562\n",
      "44626    0.004562\n",
      "44627    0.004562\n",
      "44628    0.004562\n",
      "Length: 812, dtype: float64\n"
     ]
    }
   ],
   "source": [
    "Trinity_popluation = df.loc[43817:44628, 'population']\n",
    "Trinity_cumulative_cases = df.loc[43817:44628, 'cumulative_cases']\n",
    "Effect = 0.95\n",
    "False_Positive = 0.42\n",
    "a_list = []\n",
    "for x in range(812):\n",
    "  a_list.append(Trinity_popluation)\n",
    "b_list = []\n",
    "for x in range(812):\n",
    "  b_list.append(Trinity_cumulative_cases)\n",
    "for x in range(812):\n",
    "    res = [j / i for j, i in zip(b_list, a_list)]\n",
    "neg_Trinity = []\n",
    "for x in range(812):\n",
    "    neg_Trinity = 1 - res[x]\n",
    "    a = res[x] * Effect\n",
    "    b = neg_Trinity * False_Positive\n",
    "    Accuracy = a + b\n",
    "    Trinity_Data = Effect / Accuracy * res[x]\n",
    "    \n",
    "print(\"The Trinity data is\", Trinity_Data)"
   ]
  },
  {
   "cell_type": "code",
   "execution_count": 56,
   "id": "ffce6147",
   "metadata": {},
   "outputs": [
    {
     "name": "stdout",
     "output_type": "stream",
     "text": [
      "The Tulare data is 44629    0.004562\n",
      "44630    0.005067\n",
      "44631    0.005235\n",
      "44632    0.005235\n",
      "44633    0.005235\n",
      "           ...   \n",
      "45436    0.044007\n",
      "45437    0.044904\n",
      "45438    0.045937\n",
      "45439    0.046775\n",
      "45440    0.047191\n",
      "Length: 812, dtype: float64\n"
     ]
    }
   ],
   "source": [
    "Tulare_popluation = df.loc[44629:45440, 'population']\n",
    "Tulare_cumulative_cases = df.loc[44629:45440, 'cumulative_cases']\n",
    "Effect = 0.95\n",
    "False_Positive = 0.42\n",
    "a_list = []\n",
    "for x in range(812):\n",
    "  a_list.append(Tulare_popluation)\n",
    "b_list = []\n",
    "for x in range(812):\n",
    "  b_list.append(Tulare_cumulative_cases)\n",
    "for x in range(812):\n",
    "    res = [j / i for j, i in zip(b_list, a_list)]\n",
    "neg_Tulare = []\n",
    "for x in range(812):\n",
    "    neg_Tulare = 1 - res[x]\n",
    "    a = res[x] * Effect\n",
    "    b = neg_Tulare * False_Positive\n",
    "    Accuracy = a + b\n",
    "    Tulare_Data = Effect / Accuracy * res[x]\n",
    "    \n",
    "print(\"The Tulare data is\", Tulare_Data)"
   ]
  },
  {
   "cell_type": "code",
   "execution_count": 57,
   "id": "63059a28",
   "metadata": {},
   "outputs": [
    {
     "name": "stdout",
     "output_type": "stream",
     "text": [
      "The Tuolumne data is 45441    0.047634\n",
      "45442    0.048549\n",
      "45443    0.049512\n",
      "45444    0.050337\n",
      "45445    0.051091\n",
      "           ...   \n",
      "46248    0.003708\n",
      "46249    0.003751\n",
      "46250    0.003837\n",
      "46251    0.004181\n",
      "46252    0.004525\n",
      "Length: 812, dtype: float64\n"
     ]
    }
   ],
   "source": [
    "Tuolumne_popluation = df.loc[45441:46252, 'population']\n",
    "Tuolumne_cumulative_cases = df.loc[45441:46252, 'cumulative_cases']\n",
    "Effect = 0.95\n",
    "False_Positive = 0.42\n",
    "a_list = []\n",
    "for x in range(812):\n",
    "  a_list.append(Tuolumne_popluation)\n",
    "b_list = []\n",
    "for x in range(812):\n",
    "  b_list.append(Tuolumne_cumulative_cases)\n",
    "for x in range(812):\n",
    "    res = [j / i for j, i in zip(b_list, a_list)]\n",
    "neg_Tuolumne = []\n",
    "for x in range(812):\n",
    "    neg_Tuolumne = 1 - res[x]\n",
    "    a = res[x] * Effect\n",
    "    b = neg_Tuolumne * False_Positive\n",
    "    Accuracy = a + b\n",
    "    Tuolumne_Data = Effect / Accuracy * res[x]\n",
    "    \n",
    "print(\"The Tuolumne data is\", Tuolumne_Data)"
   ]
  },
  {
   "cell_type": "code",
   "execution_count": 58,
   "id": "d9521176",
   "metadata": {},
   "outputs": [
    {
     "name": "stdout",
     "output_type": "stream",
     "text": [
      "The Unknow data is 46253    0.004740\n",
      "46254    0.005041\n",
      "46255    0.005256\n",
      "46256    0.005299\n",
      "46257    0.005428\n",
      "           ...   \n",
      "47091         NaN\n",
      "47092         NaN\n",
      "47093         NaN\n",
      "47094         NaN\n",
      "47095         NaN\n",
      "Length: 843, dtype: float64\n"
     ]
    }
   ],
   "source": [
    "Unknow_popluation = df.loc[46253:47095, 'population']\n",
    "Unknow_cumulative_cases = df.loc[46253:47095, 'cumulative_cases']\n",
    "Effect = 0.95\n",
    "False_Positive = 0.42\n",
    "a_list = []\n",
    "for x in range(812):\n",
    "  a_list.append(Unknow_popluation)\n",
    "b_list = []\n",
    "for x in range(812):\n",
    "  b_list.append(Unknow_cumulative_cases)\n",
    "for x in range(812):\n",
    "    res = [j / i for j, i in zip(b_list, a_list)]\n",
    "neg_Unknow = []\n",
    "for x in range(812):\n",
    "    neg_Unknow = 1 - res[x]\n",
    "    a = res[x] * Effect\n",
    "    b = neg_Unknow * False_Positive\n",
    "    Accuracy = a + b\n",
    "    Unknow_Data = Effect / Accuracy * res[x]\n",
    "    \n",
    "print(\"The Unknow data is\", Unknow_Data)"
   ]
  },
  {
   "cell_type": "code",
   "execution_count": 59,
   "id": "f9281311",
   "metadata": {},
   "outputs": [
    {
     "name": "stdout",
     "output_type": "stream",
     "text": [
      "The Ventura data is 47096         NaN\n",
      "47097         NaN\n",
      "47098         NaN\n",
      "47099         NaN\n",
      "47100         NaN\n",
      "           ...   \n",
      "47903    0.019372\n",
      "47904    0.019865\n",
      "47905    0.020212\n",
      "47906    0.020554\n",
      "47907    0.020886\n",
      "Length: 812, dtype: float64\n"
     ]
    }
   ],
   "source": [
    "Ventura_popluation = df.loc[47096:47907, 'population']\n",
    "Ventura_cumulative_cases = df.loc[47096:47907, 'cumulative_cases']\n",
    "Effect = 0.95\n",
    "False_Positive = 0.42\n",
    "a_list = []\n",
    "for x in range(812):\n",
    "  a_list.append(Ventura_popluation)\n",
    "b_list = []\n",
    "for x in range(812):\n",
    "  b_list.append(Ventura_cumulative_cases)\n",
    "for x in range(812):\n",
    "    res = [j / i for j, i in zip(b_list, a_list)]\n",
    "neg_Ventura = []\n",
    "for x in range(812):\n",
    "    neg_Ventura = 1 - res[x]\n",
    "    a = res[x] * Effect\n",
    "    b = neg_Ventura * False_Positive\n",
    "    Accuracy = a + b\n",
    "    Ventura_Data = Effect / Accuracy * res[x]\n",
    "    \n",
    "print(\"The Ventura data is\", Ventura_Data)"
   ]
  },
  {
   "cell_type": "code",
   "execution_count": 60,
   "id": "6ba935a4",
   "metadata": {},
   "outputs": [
    {
     "name": "stdout",
     "output_type": "stream",
     "text": [
      "The Yolo data is 47908    0.021207\n",
      "47909    0.021428\n",
      "47910    0.021617\n",
      "47911    0.022152\n",
      "47912    0.022483\n",
      "           ...   \n",
      "48715    0.010938\n",
      "48716    0.011368\n",
      "48717    0.011837\n",
      "48718    0.012077\n",
      "48719    0.012366\n",
      "Length: 812, dtype: float64\n"
     ]
    }
   ],
   "source": [
    "Yolo_popluation = df.loc[47908:48719, 'population']\n",
    "Yolo_cumulative_cases = df.loc[47908:48719, 'cumulative_cases']\n",
    "Effect = 0.95\n",
    "False_Positive = 0.42\n",
    "a_list = []\n",
    "for x in range(812):\n",
    "  a_list.append(Yolo_popluation)\n",
    "b_list = []\n",
    "for x in range(812):\n",
    "  b_list.append(Yolo_cumulative_cases)\n",
    "for x in range(812):\n",
    "    res = [j / i for j, i in zip(b_list, a_list)]\n",
    "neg_Yolo = []\n",
    "for x in range(812):\n",
    "    neg_Yolo = 1 - res[x]\n",
    "    a = res[x] * Effect\n",
    "    b = neg_Yolo * False_Positive\n",
    "    Accuracy = a + b\n",
    "    Yolo_Data = Effect / Accuracy * res[x]\n",
    "    \n",
    "print(\"The Yolo data is\", Yolo_Data)"
   ]
  },
  {
   "cell_type": "code",
   "execution_count": 61,
   "id": "1bf6c3ce",
   "metadata": {},
   "outputs": [
    {
     "name": "stdout",
     "output_type": "stream",
     "text": [
      "The Yuba data is 48720    0.012775\n",
      "48721    0.013234\n",
      "48722    0.013712\n",
      "48723    0.014031\n",
      "48724    0.014439\n",
      "           ...   \n",
      "49527    0.002308\n",
      "49528    0.002535\n",
      "49529    0.002649\n",
      "49530    0.003019\n",
      "49531    0.003132\n",
      "Length: 812, dtype: float64\n"
     ]
    }
   ],
   "source": [
    "Yuba_popluation = df.loc[48720:49531, 'population']\n",
    "Yuba_cumulative_cases = df.loc[48720:49531, 'cumulative_cases']\n",
    "Effect = 0.95\n",
    "False_Positive = 0.42\n",
    "a_list = []\n",
    "for x in range(812):\n",
    "  a_list.append(Yuba_popluation)\n",
    "b_list = []\n",
    "for x in range(812):\n",
    "  b_list.append(Yuba_cumulative_cases)\n",
    "for x in range(812):\n",
    "    res = [j / i for j, i in zip(b_list, a_list)]\n",
    "neg_Yuba = []\n",
    "for x in range(812):\n",
    "    neg_Yuba = 1 - res[x]\n",
    "    a = res[x] * Effect\n",
    "    b = neg_Yuba * False_Positive\n",
    "    Accuracy = a + b\n",
    "    Yuba_Data = Effect / Accuracy * res[x]\n",
    "    \n",
    "print(\"The Yuba data is\", Yuba_Data)"
   ]
  }
 ],
 "metadata": {
  "kernelspec": {
   "display_name": "Python 3 (ipykernel)",
   "language": "python",
   "name": "python3"
  },
  "language_info": {
   "codemirror_mode": {
    "name": "ipython",
    "version": 3
   },
   "file_extension": ".py",
   "mimetype": "text/x-python",
   "name": "python",
   "nbconvert_exporter": "python",
   "pygments_lexer": "ipython3",
   "version": "3.10.4"
  }
 },
 "nbformat": 4,
 "nbformat_minor": 5
}
